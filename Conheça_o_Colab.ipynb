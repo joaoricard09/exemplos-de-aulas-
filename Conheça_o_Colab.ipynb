{
  "cells": [
    {
      "cell_type": "code",
      "source": [
        "import numpy as np"
      ],
      "metadata": {
        "id": "pPuGHBJb38cY"
      },
      "execution_count": 2,
      "outputs": []
    },
    {
      "cell_type": "code",
      "source": [
        "#biblioteca"
      ],
      "metadata": {
        "id": "ahujvpFf6sww"
      },
      "execution_count": 3,
      "outputs": []
    },
    {
      "cell_type": "code",
      "source": [
        "np.random.seed(42)\n",
        "#Optional,garantir que os resultado sejam os mesmos"
      ],
      "metadata": {
        "id": "fzcEFLBV6s0e"
      },
      "execution_count": 4,
      "outputs": []
    },
    {
      "cell_type": "code",
      "source": [
        "produtos = ('a','b','c')"
      ],
      "metadata": {
        "id": "SHxzqp916s3_"
      },
      "execution_count": 41,
      "outputs": []
    },
    {
      "cell_type": "code",
      "source": [
        "dias_semana = ('Segunda','Terça','Quarta','Quinta','Sexta')"
      ],
      "metadata": {
        "id": "fcksbyW-7aNa"
      },
      "execution_count": 44,
      "outputs": []
    },
    {
      "cell_type": "code",
      "source": [
        "#definição de Array\n",
        "num_linha = 3"
      ],
      "metadata": {
        "id": "npJ4ChEQ6s7W"
      },
      "execution_count": 60,
      "outputs": []
    },
    {
      "cell_type": "code",
      "source": [
        "num_linha = 4"
      ],
      "metadata": {
        "id": "y8B_WPb07zO1"
      },
      "execution_count": 61,
      "outputs": []
    },
    {
      "cell_type": "code",
      "source": [
        "num_dias = len(dias_semana)"
      ],
      "metadata": {
        "id": "wIVr0z5q74Fe"
      },
      "execution_count": 62,
      "outputs": []
    },
    {
      "cell_type": "code",
      "source": [
        "num_tipos = len(produtos)"
      ],
      "metadata": {
        "id": "YS_7EzCY74J1"
      },
      "execution_count": 63,
      "outputs": []
    },
    {
      "cell_type": "code",
      "source": [
        "num_tipos = len(produtos)"
      ],
      "metadata": {
        "id": "v2prvHUE74NW"
      },
      "execution_count": 64,
      "outputs": []
    },
    {
      "cell_type": "code",
      "source": [
        "producao = np.zeros ((num_linha,num_dias,num_tipos))"
      ],
      "metadata": {
        "id": "-dWo1RF574Ru"
      },
      "execution_count": 65,
      "outputs": []
    },
    {
      "cell_type": "code",
      "source": [
        "producao"
      ],
      "metadata": {
        "id": "9Po-WQcs8dhu",
        "outputId": "68240fb5-49b6-4b38-838c-d5591248b717",
        "colab": {
          "base_uri": "https://localhost:8080/"
        }
      },
      "execution_count": 66,
      "outputs": [
        {
          "output_type": "execute_result",
          "data": {
            "text/plain": [
              "array([[[0., 0., 0.],\n",
              "        [0., 0., 0.],\n",
              "        [0., 0., 0.],\n",
              "        [0., 0., 0.],\n",
              "        [0., 0., 0.]],\n",
              "\n",
              "       [[0., 0., 0.],\n",
              "        [0., 0., 0.],\n",
              "        [0., 0., 0.],\n",
              "        [0., 0., 0.],\n",
              "        [0., 0., 0.]],\n",
              "\n",
              "       [[0., 0., 0.],\n",
              "        [0., 0., 0.],\n",
              "        [0., 0., 0.],\n",
              "        [0., 0., 0.],\n",
              "        [0., 0., 0.]],\n",
              "\n",
              "       [[0., 0., 0.],\n",
              "        [0., 0., 0.],\n",
              "        [0., 0., 0.],\n",
              "        [0., 0., 0.],\n",
              "        [0., 0., 0.]]])"
            ]
          },
          "metadata": {},
          "execution_count": 66
        }
      ]
    },
    {
      "cell_type": "code",
      "source": [
        "csv_array = np.random.rand(10,10)"
      ],
      "metadata": {
        "id": "lUn82Ujl9JT1"
      },
      "execution_count": 67,
      "outputs": []
    },
    {
      "cell_type": "code",
      "source": [
        "np.savetxt('csv_array.csv',csv_array)"
      ],
      "metadata": {
        "id": "iP5dr_rJ9Knj"
      },
      "execution_count": 71,
      "outputs": []
    },
    {
      "cell_type": "code",
      "source": [
        "x = np.loadtxt('csv_array.csv')"
      ],
      "metadata": {
        "id": "3er0kKBO_D3y"
      },
      "execution_count": 72,
      "outputs": []
    },
    {
      "cell_type": "code",
      "source": [
        "print(x)"
      ],
      "metadata": {
        "id": "HjKc4hlK_O7c",
        "outputId": "bc65e9b9-5f07-4799-b6d4-351f23c6b915",
        "colab": {
          "base_uri": "https://localhost:8080/"
        }
      },
      "execution_count": 70,
      "outputs": [
        {
          "output_type": "stream",
          "name": "stdout",
          "text": [
            "[0.02058449 0.96990985 0.83244264 0.21233911 0.18182497 0.18340451\n",
            " 0.30424224 0.52475643 0.43194502 0.29122914]\n"
          ]
        }
      ]
    }
  ],
  "metadata": {
    "colab": {
      "name": "Conheça o Colab",
      "provenance": []
    },
    "kernelspec": {
      "display_name": "Python 3",
      "name": "python3"
    }
  },
  "nbformat": 4,
  "nbformat_minor": 0
}